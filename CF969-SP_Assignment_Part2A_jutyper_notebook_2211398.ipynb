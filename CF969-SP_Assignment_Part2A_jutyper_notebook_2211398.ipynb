{
 "cells": [
  {
   "cell_type": "markdown",
   "id": "a14bc6ea",
   "metadata": {},
   "source": [
    "# CF969-7-SP-CO Big Data for Financial Computation\n",
    "\n",
    "##### Name: Faryal Zaidi\n",
    "\n",
    "##### Registration Number: 2211398\n",
    "\n",
    "##### Department: Mathematical Sciences\n",
    "\n",
    "##### Submitted to: Dr. Panagiotis Kanellopoulos\n"
   ]
  },
  {
   "cell_type": "markdown",
   "id": "13a6801c",
   "metadata": {},
   "source": [
    " # Assignment Part IIA"
   ]
  },
  {
   "cell_type": "code",
   "execution_count": null,
   "id": "f7282de3",
   "metadata": {},
   "outputs": [],
   "source": [
    "# Q1: Formulate and solve a linear program to determine the portfolio of stocks,\n",
    "# bonds, and options that maximises expected profit. "
   ]
  },
  {
   "cell_type": "code",
   "execution_count": 3,
   "id": "d850a6ac",
   "metadata": {},
   "outputs": [
    {
     "name": "stdout",
     "output_type": "stream",
     "text": [
      "           con: array([], dtype=float64)\n",
      " crossover_nit: 0\n",
      "         eqlin:  marginals: array([], dtype=float64)\n",
      "  residual: array([], dtype=float64)\n",
      "           fun: -4000.0\n",
      "       ineqlin:  marginals: array([-0.16666667, -0.        , -0.        , -0.66666667])\n",
      "  residual: array([   0.,    0., 4000.,    0.])\n",
      "         lower:  marginals: array([ 0.        ,  0.        ,  0.        , 25.66666667])\n",
      "  residual: array([1000.,   25.,   25.,    0.])\n",
      "       message: 'Optimization terminated successfully. (HiGHS Status 7: Optimal)'\n",
      "           nit: 3\n",
      "         slack: array([   0.,    0., 4000.,    0.])\n",
      "        status: 0\n",
      "       success: True\n",
      "         upper:  marginals: array([0., 0., 0., 0.])\n",
      "  residual: array([inf, 25., 25., inf])\n",
      "             x: array([1000.,   25.,   25.,    0.])\n",
      "Optimal solution:\n",
      "x = 1000.0\n",
      "y = 25.0\n",
      "z = 25.0\n",
      "b = 0.0\n",
      "Expected profit: £ 4000.0\n"
     ]
    }
   ],
   "source": [
    "from scipy.optimize import linprog\n",
    "\n",
    "c = [-12/3, -500/3, 500/3, 10]\n",
    "A = [[20, 1000, -1000, 90], \n",
    "     [0, 1, 1, 0],\n",
    "     [1, 1000, -1000, 0],\n",
    "     [1, 0, 0, 1]]\n",
    "b = [20000, 50, 5000, 1000]\n",
    "bounds = [(0, None), (0, 50), (0, 50), (0, None)]\n",
    "from scipy.optimize import linprog\n",
    "res = linprog(c, A_ub = A, b_ub=b, bounds = bounds)\n",
    "print(res)\n",
    "# print results\n",
    "print(\"Optimal solution:\")\n",
    "print(\"x =\", round(res.x[0], 2))\n",
    "print(\"y =\", round(res.x[1], 2))\n",
    "print(\"z =\", round(res.x[2], 2))\n",
    "print(\"b =\", round(res.x[3], 2))\n",
    "print(\"Expected profit: £\", round(-res.fun, 2))"
   ]
  },
  {
   "cell_type": "code",
   "execution_count": null,
   "id": "7657df5e",
   "metadata": {},
   "outputs": [],
   "source": [
    "# Q2: Suppose that the investor wants a profit of at least £2,000 in any of the three\n",
    "# scenarios for the price of XYZ six months from today. Formulate and solve a linear program that will\n",
    "# maximise the investor’s expected profit under this additional constraint."
   ]
  },
  {
   "cell_type": "code",
   "execution_count": 4,
   "id": "ddd0f116",
   "metadata": {},
   "outputs": [
    {
     "name": "stdout",
     "output_type": "stream",
     "text": [
      "           con: array([], dtype=float64)\n",
      " crossover_nit: 0\n",
      "         eqlin:  marginals: array([], dtype=float64)\n",
      "  residual: array([], dtype=float64)\n",
      "           fun: -2111.11111111112\n",
      "       ineqlin:  marginals: array([-0.        , -0.        , -0.34920635, -0.        , -0.18253968,\n",
      "       -0.        , -0.        ])\n",
      "  residual: array([8.66666667e+03, 0.00000000e+00, 0.00000000e+00, 6.66666667e+02,\n",
      "       0.00000000e+00, 2.18278728e-11, 4.53333333e+04])\n",
      "         lower:  marginals: array([ 0.        ,  0.        ,  0.        , 26.42857143])\n",
      "  residual: array([333.33333333,  27.33333333,  22.66666667,   0.        ])\n",
      "       message: 'Optimization terminated successfully. (HiGHS Status 7: Optimal)'\n",
      "           nit: 3\n",
      "         slack: array([8.66666667e+03, 0.00000000e+00, 0.00000000e+00, 6.66666667e+02,\n",
      "       0.00000000e+00, 2.18278728e-11, 4.53333333e+04])\n",
      "        status: 0\n",
      "       success: True\n",
      "         upper:  marginals: array([0., 0., 0., 0.])\n",
      "  residual: array([        inf, 22.66666667, 27.33333333,         inf])\n",
      "             x: array([333.33333333,  27.33333333,  22.66666667,   0.        ])\n",
      "Optimal solution:\n",
      "x = 333.33\n",
      "y = 27.33\n",
      "z = 22.67\n",
      "b = 0.0\n",
      "Expected profit: £ 2111.11\n"
     ]
    }
   ],
   "source": [
    "c = [-12/3, -500/3, 500/3, 10]\n",
    "A = [[20, 1000, -1000, 90], \n",
    "     [0, 1, 1, 0],\n",
    "     [1, 1000, -1000, 0],\n",
    "     [1, 0, 0, 1],\n",
    "     [20, -1000, 1000, 90],\n",
    "     [-8, 1000, -1000, 90],\n",
    "     [20, -1000, -1000, 90]]\n",
    "b = [20000, 50, 5000, 1000, 2000, 2000, 2000]\n",
    "bounds = [(0, None), (0, 50), (0, 50), (0, None)]\n",
    "from scipy.optimize import linprog\n",
    "res = linprog(c, A_ub = A, b_ub=b, bounds = bounds)\n",
    "print(res)\n",
    "# print results\n",
    "print(\"Optimal solution:\")\n",
    "print(\"x =\", round(res.x[0], 2))\n",
    "print(\"y =\", round(res.x[1], 2))\n",
    "print(\"z =\", round(res.x[2], 2))\n",
    "print(\"b =\", round(res.x[3], 2))\n",
    "print(\"Expected profit: £\", round(-res.fun, 2))"
   ]
  },
  {
   "cell_type": "code",
   "execution_count": null,
   "id": "b0bbedd5",
   "metadata": {},
   "outputs": [],
   "source": []
  }
 ],
 "metadata": {
  "kernelspec": {
   "display_name": "Python 3 (ipykernel)",
   "language": "python",
   "name": "python3"
  },
  "language_info": {
   "codemirror_mode": {
    "name": "ipython",
    "version": 3
   },
   "file_extension": ".py",
   "mimetype": "text/x-python",
   "name": "python",
   "nbconvert_exporter": "python",
   "pygments_lexer": "ipython3",
   "version": "3.9.13"
  }
 },
 "nbformat": 4,
 "nbformat_minor": 5
}
